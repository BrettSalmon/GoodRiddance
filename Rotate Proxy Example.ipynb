{
 "cells": [
  {
   "cell_type": "code",
   "execution_count": 2,
   "metadata": {},
   "outputs": [],
   "source": [
    "from urllib.request import Request, urlopen\n",
    "from bs4 import BeautifulSoup\n",
    "from fake_useragent import UserAgent\n",
    "import random\n",
    "\n",
    "ua = UserAgent() # From here we generate a random user agent\n",
    "proxies = [] # Will contain proxies [ip, port]"
   ]
  },
  {
   "cell_type": "code",
   "execution_count": 3,
   "metadata": {},
   "outputs": [
    {
     "name": "stdout",
     "output_type": "stream",
     "text": [
      "its not this..\n",
      "is it this??\n",
      "Proxy 177.103.223.155:3128 deleted.\n"
     ]
    }
   ],
   "source": [
    "# Retrieve a random index proxy (we need the index to delete it if not working)\n",
    "def random_proxy(proxies):\n",
    "    return random.randint(0, len(proxies) - 1)\n",
    "\n",
    "def setup_proxy_rotation():\n",
    "    # Retrieve latest proxies\n",
    "    proxies_req = Request('https://www.sslproxies.org/')\n",
    "    proxies_req.add_header('User-Agent', ua.random)\n",
    "    proxies_doc = urlopen(proxies_req).read().decode('utf8')\n",
    "\n",
    "    soup = BeautifulSoup(proxies_doc, 'html.parser')\n",
    "    proxies_table = soup.find(id='proxylisttable')\n",
    "\n",
    "    # Save proxies in the array\n",
    "    for row in proxies_table.tbody.find_all('tr'):\n",
    "        proxies.append({'ip':   row.find_all('td')[0].string,\n",
    "                        'port': row.find_all('td')[1].string })\n",
    "    return proxies\n",
    "\n",
    "proxies = setup_proxy_rotation()\n",
    "# Choose a random proxy\n",
    "proxy_index = random_proxy(proxies)\n",
    "proxy = proxies[proxy_index]\n",
    "\n",
    "for n in range(1, 2):\n",
    "    req = Request('http://icanhazip.com')\n",
    "    req.set_proxy(proxy['ip'] + ':' + proxy['port'], 'http')\n",
    "    print('its not this..')\n",
    "\n",
    "    # Every 10 requests, generate a new proxy\n",
    "    if n % 30 == 0:\n",
    "        proxy_index = random_proxy(proxies)\n",
    "        proxy = proxies[proxy_index]\n",
    "\n",
    "    # Make the call\n",
    "    try:\n",
    "        print('is it this??')\n",
    "        my_ip = urlopen(req).read().decode('utf8')\n",
    "        print('#' + str(n) + ': ' + my_ip)\n",
    "    except: # If error, delete this proxy and find another one\n",
    "        del proxies[proxy_index]\n",
    "        print('Proxy ' + proxy['ip'] + ':' + proxy['port'] + ' deleted.')\n",
    "        proxy_index = random_proxy(proxies)\n",
    "        proxy = proxies[proxy_index]"
   ]
  },
  {
   "cell_type": "code",
   "execution_count": 4,
   "metadata": {},
   "outputs": [
    {
     "data": {
      "text/plain": [
       "<urllib.request.Request at 0x11d19d6a0>"
      ]
     },
     "execution_count": 4,
     "metadata": {},
     "output_type": "execute_result"
    }
   ],
   "source": [
    "req"
   ]
  },
  {
   "cell_type": "code",
   "execution_count": null,
   "metadata": {},
   "outputs": [],
   "source": []
  }
 ],
 "metadata": {
  "kernelspec": {
   "display_name": "Python 3",
   "language": "python",
   "name": "python3"
  },
  "language_info": {
   "codemirror_mode": {
    "name": "ipython",
    "version": 3
   },
   "file_extension": ".py",
   "mimetype": "text/x-python",
   "name": "python",
   "nbconvert_exporter": "python",
   "pygments_lexer": "ipython3",
   "version": "3.7.3"
  },
  "varInspector": {
   "cols": {
    "lenName": 16,
    "lenType": 16,
    "lenVar": 40
   },
   "kernels_config": {
    "python": {
     "delete_cmd_postfix": "",
     "delete_cmd_prefix": "del ",
     "library": "var_list.py",
     "varRefreshCmd": "print(var_dic_list())"
    },
    "r": {
     "delete_cmd_postfix": ") ",
     "delete_cmd_prefix": "rm(",
     "library": "var_list.r",
     "varRefreshCmd": "cat(var_dic_list()) "
    }
   },
   "types_to_exclude": [
    "module",
    "function",
    "builtin_function_or_method",
    "instance",
    "_Feature"
   ],
   "window_display": false
  }
 },
 "nbformat": 4,
 "nbformat_minor": 2
}
