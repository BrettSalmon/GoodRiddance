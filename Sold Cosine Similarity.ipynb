{
 "cells": [
  {
   "cell_type": "code",
   "execution_count": 1,
   "metadata": {},
   "outputs": [
    {
     "name": "stderr",
     "output_type": "stream",
     "text": [
      "Using TensorFlow backend.\n"
     ]
    }
   ],
   "source": [
    "#!/usr/bin/env python\n",
    "# coding: utf-8\n",
    "\n",
    "import pandas as pd\n",
    "import numpy as np\n",
    "import requests\n",
    "from bs4 import BeautifulSoup\n",
    "import ast\n",
    "import glob\n",
    "import re\n",
    "import sys\n",
    "import os\n",
    "from subprocess import call\n",
    "from shutil import copyfile, move\n",
    "from tqdm import tqdm_notebook\n",
    "from datetime import datetime\n",
    "from datetime import timedelta\n",
    "import time\n",
    "import urllib.request\n",
    "from itertools import islice\n",
    "import math\n",
    "\n",
    "import my_cosine_similarity as cs"
   ]
  },
  {
   "cell_type": "code",
   "execution_count": 2,
   "metadata": {},
   "outputs": [],
   "source": [
    "now = datetime.now()\n",
    "date=now.strftime(\"%d-%m-%Y\")\n",
    "\n",
    "thedir='/Users/bsalmon/BrettSalmon/data_science/Insight/goodriddance/scraping/'\n",
    "cityname='Los Angeles'\n",
    "city=cityname.lower().replace(' ','_')\n",
    "item='couch'"
   ]
  },
  {
   "cell_type": "code",
   "execution_count": 31,
   "metadata": {},
   "outputs": [
    {
     "name": "stdout",
     "output_type": "stream",
     "text": [
      "%% You already have the image features in hand-- loading them from disk.\n",
      "Loading features...\n",
      "/Users/bsalmon/BrettSalmon/data_science/Insight/goodriddance/scraping/offerup/los_angeles/couch_images/sold/696627962.jpg\n",
      "%% That was fast! Applying cosine similarity and finding images\n",
      "%% Cosine similarity complete. Matched images are in myflask/static/matches/offerup\n"
     ]
    }
   ],
   "source": [
    "input_file = 'myflask/static/uploads/311077238.jpg'\n",
    "input_file = thedir+'offerup/'+city+'/'+item+'_images/sold/696627962.jpg'\n",
    "sold_image_paths,sold_image_ids, sold_css = cs.run(item, city, thedir+'offerup/', 'offerup',\n",
    "                                               sold=True,\n",
    "                                               input_file=input_file,first=False, topn=30)"
   ]
  },
  {
   "cell_type": "code",
   "execution_count": 33,
   "metadata": {},
   "outputs": [
    {
     "data": {
      "text/plain": [
       "array([0.59155625, 0.5996775 , 0.60724664, 0.6087393 , 0.60983855,\n",
       "       0.62906826, 0.6422573 , 0.6624131 , 0.66610885, 0.6734959 ,\n",
       "       0.72259283, 1.0000002 ], dtype=float32)"
      ]
     },
     "execution_count": 33,
     "metadata": {},
     "output_type": "execute_result"
    }
   ],
   "source": [
    "sold_css[np.argsort(sold_css)][-12:]"
   ]
  },
  {
   "cell_type": "code",
   "execution_count": 34,
   "metadata": {},
   "outputs": [],
   "source": [
    "sold_df=pd.read_csv(thedir+'offerup/'+city+'/all_'+item+'_sold.csv', index_col='id')"
   ]
  },
  {
   "cell_type": "code",
   "execution_count": 41,
   "metadata": {},
   "outputs": [
    {
     "name": "stdout",
     "output_type": "stream",
     "text": [
      "60.0\n",
      "120.0\n",
      "30.0\n",
      "150.0\n",
      "90.0\n",
      "255.0\n",
      "200.0\n",
      "0.0\n",
      "400.0\n",
      "0.0\n",
      "100.0\n",
      "100.0\n",
      "750.0\n",
      "80.0\n",
      "60.0\n",
      "75.0\n",
      "150.0\n",
      "100.0\n",
      "60.0\n",
      "75.0\n",
      "120.0\n",
      "150.0\n",
      "40.0\n",
      "25.0\n",
      "75.0\n",
      "70.0\n",
      "60.0\n",
      "30.0\n",
      "150.0\n",
      "1.0\n"
     ]
    }
   ],
   "source": [
    "for i in range(len(sold_image_ids)):\n",
    "    print( sold_df.loc[sold_image_ids[i],'price'])"
   ]
  },
  {
   "cell_type": "code",
   "execution_count": 37,
   "metadata": {},
   "outputs": [
    {
     "data": {
      "text/plain": [
       "'https://photos.offerup.com/OcBzRrvB5KO1ycx3owo8I384Ln0=/600x864/5c8c/5c8cdd244a10403f8fb6e01679db89ea.jpg'"
      ]
     },
     "execution_count": 37,
     "metadata": {},
     "output_type": "execute_result"
    }
   ],
   "source": [
    "sold_df.iloc[0]['imgurl']"
   ]
  },
  {
   "cell_type": "code",
   "execution_count": 39,
   "metadata": {},
   "outputs": [
    {
     "name": "stdout",
     "output_type": "stream",
     "text": [
      "/Users/bsalmon/BrettSalmon/data_science/Insight/goodriddance/scraping/offerup/los_angeles/couch_images/sold/696627962.jpg\n"
     ]
    }
   ],
   "source": [
    "print(input_file)"
   ]
  },
  {
   "cell_type": "code",
   "execution_count": null,
   "metadata": {},
   "outputs": [],
   "source": []
  },
  {
   "cell_type": "code",
   "execution_count": null,
   "metadata": {},
   "outputs": [],
   "source": []
  }
 ],
 "metadata": {
  "kernelspec": {
   "display_name": "Python 3",
   "language": "python",
   "name": "python3"
  },
  "varInspector": {
   "cols": {
    "lenName": 16,
    "lenType": 16,
    "lenVar": 40
   },
   "kernels_config": {
    "python": {
     "delete_cmd_postfix": "",
     "delete_cmd_prefix": "del ",
     "library": "var_list.py",
     "varRefreshCmd": "print(var_dic_list())"
    },
    "r": {
     "delete_cmd_postfix": ") ",
     "delete_cmd_prefix": "rm(",
     "library": "var_list.r",
     "varRefreshCmd": "cat(var_dic_list()) "
    }
   },
   "types_to_exclude": [
    "module",
    "function",
    "builtin_function_or_method",
    "instance",
    "_Feature"
   ],
   "window_display": false
  }
 },
 "nbformat": 4,
 "nbformat_minor": 2
}
